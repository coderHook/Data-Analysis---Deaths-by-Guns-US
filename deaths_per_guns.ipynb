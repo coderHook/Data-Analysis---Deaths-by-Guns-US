{
 "cells": [
  {
   "cell_type": "code",
   "execution_count": 13,
   "metadata": {},
   "outputs": [
    {
     "name": "stdout",
     "output_type": "stream",
     "text": [
      "[['', 'year', 'month', 'intent', 'police', 'sex', 'age', 'race', 'hispanic', 'place', 'education'], ['1', '2012', '01', 'Suicide', '0', 'M', '34', 'Asian/Pacific Islander', '100', 'Home', '4'], ['2', '2012', '01', 'Suicide', '0', 'F', '21', 'White', '100', 'Street', '3'], ['3', '2012', '01', 'Suicide', '0', 'M', '60', 'White', '100', 'Other specified', '4'], ['4', '2012', '02', 'Suicide', '0', 'M', '64', 'White', '100', 'Home', '4']]\n"
     ]
    }
   ],
   "source": [
    "import csv\n",
    "import datetime\n",
    "\n",
    "f = open(\"guns.csv\", \"r\")\n",
    "csvreader = csv.reader(f)\n",
    "data = list(csvreader)\n",
    "\n",
    "print(data[0:5])\n",
    "\n"
   ]
  },
  {
   "cell_type": "code",
   "execution_count": 2,
   "metadata": {},
   "outputs": [
    {
     "name": "stdout",
     "output_type": "stream",
     "text": [
      "['', 'year', 'month', 'intent', 'police', 'sex', 'age', 'race', 'hispanic', 'place', 'education']\n",
      "[['3', '2012', '01', 'Suicide', '0', 'M', '60', 'White', '100', 'Other specified', '4'], ['4', '2012', '02', 'Suicide', '0', 'M', '64', 'White', '100', 'Home', '4'], ['5', '2012', '02', 'Suicide', '0', 'M', '31', 'White', '100', 'Other specified', '2']]\n"
     ]
    }
   ],
   "source": [
    "headers = data[0]\n",
    "print(headers)\n",
    "\n",
    "data = data[1:len(data)]\n",
    "print(data[2:5])"
   ]
  },
  {
   "cell_type": "code",
   "execution_count": 3,
   "metadata": {},
   "outputs": [
    {
     "name": "stdout",
     "output_type": "stream",
     "text": [
      "{'2013': 33636, '2014': 33599, '2012': 33563}\n"
     ]
    }
   ],
   "source": [
    "year_counts = {}\n",
    "count = 0;\n",
    "for d in data:\n",
    "    if d[1] in year_counts:\n",
    "        year_counts[d[1]] += 1\n",
    "    else:\n",
    "        year_counts[d[1]] = 1\n",
    "print(year_counts)"
   ]
  },
  {
   "cell_type": "markdown",
   "metadata": {},
   "source": [
    "##### Guns death did not change much year by year\n",
    "\n",
    "Let'see how it change monthly"
   ]
  },
  {
   "cell_type": "code",
   "execution_count": 4,
   "metadata": {},
   "outputs": [],
   "source": [
    "from datetime import datetime\n",
    "\n",
    "date_counts = {}\n",
    "\n",
    "for d in data:\n",
    "    date = datetime(year = int(d[1]), month = int(d[2]), day = 1)\n",
    "    \n",
    "    if date in date_counts:\n",
    "        date_counts[date] += 1\n",
    "    else:\n",
    "        date_counts[date] = 1  \n"
   ]
  },
  {
   "cell_type": "code",
   "execution_count": 5,
   "metadata": {},
   "outputs": [
    {
     "name": "stdout",
     "output_type": "stream",
     "text": [
      "2013-07-01 00:00:00 3079\n",
      "2012-02-01 00:00:00 2357\n"
     ]
    }
   ],
   "source": [
    "inverse = [(value, key) for key, value in date_counts.items()]\n",
    "maxim = max(inverse)[1]\n",
    "print(maxim, date_counts[maxim])\n",
    "\n",
    "minim = min(inverse)[1]\n",
    "print(minim, date_counts[minim])"
   ]
  },
  {
   "cell_type": "markdown",
   "metadata": {},
   "source": [
    "As we can observe, between the max and min value in date_counts we have 600-650 units which can be representative."
   ]
  },
  {
   "cell_type": "markdown",
   "metadata": {},
   "source": [
    "### Exploring Gun Deaths by Race and Sex"
   ]
  },
  {
   "cell_type": "code",
   "execution_count": 6,
   "metadata": {},
   "outputs": [
    {
     "name": "stdout",
     "output_type": "stream",
     "text": [
      "{'M': 86349, 'F': 14449}\n",
      "{'Black': 23296, 'White': 66237, 'Asian/Pacific Islander': 1326, 'Native American/Native Alaskan': 917, 'Hispanic': 9022}\n"
     ]
    }
   ],
   "source": [
    "sex_counts = {}\n",
    "race_counts = {}\n",
    "for d in data:\n",
    "    if d[5] in sex_counts:\n",
    "        sex_counts[d[5]] += 1\n",
    "    else:\n",
    "        sex_counts[d[5]] = 1\n",
    "    if d[7] in race_counts:\n",
    "        race_counts[d[7]] += 1\n",
    "    else:\n",
    "        race_counts[d[7]] = 1\n",
    "\n",
    "print(sex_counts)\n",
    "print(race_counts)"
   ]
  },
  {
   "cell_type": "markdown",
   "metadata": {},
   "source": [
    "#### Results:\n",
    "    As we can observe: \n",
    "            - Male race is who died more by guns.\n",
    "            - White is the race who died more by guns\n",
    "            "
   ]
  },
  {
   "cell_type": "code",
   "execution_count": 7,
   "metadata": {},
   "outputs": [
    {
     "name": "stdout",
     "output_type": "stream",
     "text": [
      "[['Id', 'Year', 'Id', 'Sex', 'Id', 'Hispanic Origin', 'Id', 'Id2', 'Geography', 'Total', 'Race Alone - White', 'Race Alone - Hispanic', 'Race Alone - Black or African American', 'Race Alone - American Indian and Alaska Native', 'Race Alone - Asian', 'Race Alone - Native Hawaiian and Other Pacific Islander', 'Two or More Races'], ['cen42010', 'April 1, 2010 Census', 'totsex', 'Both Sexes', 'tothisp', 'Total', '0100000US', '', 'United States', '308745538', '197318956', '44618105', '40250635', '3739506', '15159516', '674625', '6984195']]\n"
     ]
    }
   ],
   "source": [
    "#lets open a new file census.csv on we can find the ppl censed.\n",
    "census_file = open(\"census.csv\", \"r\")\n",
    "censusreader = csv.reader(census_file)\n",
    "census = list(censusreader)\n",
    "\n",
    "print(census)"
   ]
  },
  {
   "cell_type": "markdown",
   "metadata": {},
   "source": [
    "### Computing rates of guns deaths per race per 100000"
   ]
  },
  {
   "cell_type": "code",
   "execution_count": 8,
   "metadata": {},
   "outputs": [
    {
     "name": "stdout",
     "output_type": "stream",
     "text": [
      "{'Black': '40250635', 'White': '197318956', 'Native American/Native Alaskan': '3739506', 'Asian/Pacific Islander': '15159516674625', 'Hispanic': '44618105'}\n"
     ]
    }
   ],
   "source": [
    "#Criminal rates always come with a rate *100000\n",
    "mapping = {}\n",
    "    #lets get the index of the items we need\n",
    "    #For Asian/Pacific Islander\n",
    "\n",
    "mapping['Asian/Pacific Islander'] = census[1][census[0].index('Race Alone - Asian')] + census[1][census[0].index('Race Alone - Native Hawaiian and Other Pacific Islander')]\n",
    "\n",
    "    #For black and the rest we have to look for just one index\n",
    "mapping['Black'] = census[1][census[0].index('Race Alone - Black or African American')]\n",
    "mapping['Hispanic'] = census[1][census[0].index('Race Alone - Hispanic')]\n",
    "mapping['Native American/Native Alaskan'] = census[1][census[0].index('Race Alone - American Indian and Alaska Native')]\n",
    "mapping['White'] = census[1][census[0].index('Race Alone - White')]\n",
    "\n",
    "print(mapping)\n",
    "\n"
   ]
  },
  {
   "cell_type": "markdown",
   "metadata": {},
   "source": [
    "##### Now we have all we need to get the rate *100000 = (race_counts/mapping ) *100K"
   ]
  },
  {
   "cell_type": "code",
   "execution_count": 9,
   "metadata": {},
   "outputs": [
    {
     "name": "stdout",
     "output_type": "stream",
     "text": [
      "{'Black': 57.8773477735196, 'White': 33.56849303419181, 'Asian/Pacific Islander': 8.746980714890115e-06, 'Native American/Native Alaskan': 24.521955573811088, 'Hispanic': 20.220491210910907}\n"
     ]
    }
   ],
   "source": [
    "race_per_hundredk = {}\n",
    "for row in race_counts:\n",
    "    race_per_hundredk[row] = (float(race_counts[row])/float(mapping[row]))*100000\n",
    "print(race_per_hundredk)   \n",
    "    "
   ]
  },
  {
   "cell_type": "markdown",
   "metadata": {},
   "source": [
    "### Filtering by Intent"
   ]
  },
  {
   "cell_type": "code",
   "execution_count": 10,
   "metadata": {},
   "outputs": [
    {
     "name": "stdout",
     "output_type": "stream",
     "text": [
      "{'Black': 19510, 'White': 9147, 'Asian/Pacific Islander': 559, 'Native American/Native Alaskan': 326, 'Hispanic': 5634}\n"
     ]
    }
   ],
   "source": [
    "intents = []\n",
    "for d in data:\n",
    "    if d[headers.index('intent')] == 'Homicide':\n",
    "        intents.append(d)\n",
    "\n",
    "#lets extract the race\n",
    "races = []\n",
    "races_count_homic = {}\n",
    "for i in intents:\n",
    "    races.append(i[7])\n",
    "    if i[7] in races_count_homic:\n",
    "        races_count_homic[i[7]] += 1\n",
    "    else:\n",
    "        races_count_homic[i[7]] = 1\n",
    "    \n",
    "    \n",
    "print(races_count_homic)  "
   ]
  },
  {
   "cell_type": "markdown",
   "metadata": {},
   "source": [
    "##### Let's extract the rate of homicides per race *100000"
   ]
  },
  {
   "cell_type": "code",
   "execution_count": 11,
   "metadata": {},
   "outputs": [
    {
     "name": "stdout",
     "output_type": "stream",
     "text": [
      "{'Black': 48.471284987180944, 'White': 4.6356417981453335, 'Asian/Pacific Islander': 3.687452654316421e-06, 'Native American/Native Alaskan': 8.717729026240365, 'Hispanic': 12.627161104219914}\n"
     ]
    }
   ],
   "source": [
    "homicide_race_per_hundredk = {}\n",
    "\n",
    "for c in races_count_homic:\n",
    "    homicide_race_per_hundredk[c] = (races_count_homic[c]/float(mapping[c]))*100000\n",
    "\n",
    "print(homicide_race_per_hundredk)"
   ]
  },
  {
   "cell_type": "markdown",
   "metadata": {},
   "source": [
    "### Results\n",
    "\n",
    "###### Black race is who more comitted homicide per 100K\n",
    "###### Asian/Pacific islanders who less homic comitted per 100K"
   ]
  },
  {
   "cell_type": "markdown",
   "metadata": {
    "collapsed": true
   },
   "source": [
    "## Generalizating some research\n",
    "#### Here I am going to use functions that extract the result we are looking for in order to get the total of guns death for each intent for instance or also for gender.\n"
   ]
  },
  {
   "cell_type": "code",
   "execution_count": 19,
   "metadata": {},
   "outputs": [
    {
     "name": "stdout",
     "output_type": "stream",
     "text": [
      "{'Black': 0.814893976206835, 'White': 0.5736904466492313, 'Native American/Native Alaskan': 0.5883130017708221, 'Asian/Pacific Islander': 7.915819651484268e-08, 'Hispanic': 0.3249801846133985}\n"
     ]
    }
   ],
   "source": [
    "def deaths_by_intent_100K(intent):\n",
    "    \n",
    "    intents = []\n",
    "    for d in data:\n",
    "        if d[headers.index('intent')] == intent:\n",
    "            intents.append(d)\n",
    "\n",
    "    #lets extract the race\n",
    "    races = []\n",
    "    races_count_intent = {}\n",
    "    for i in intents:\n",
    "        races.append(i[7])\n",
    "        if i[7] in races_count_intent:\n",
    "            races_count_intent[i[7]] += 1\n",
    "        else:\n",
    "            races_count_intent[i[7]] = 1\n",
    "    \n",
    "    \n",
    "    intent_race_per_hundredk = {}\n",
    "\n",
    "    for c in races_count_intent:\n",
    "        intent_race_per_hundredk[c] = (races_count_intent[c]/float(mapping[c]))*100000\n",
    "\n",
    "    return(intent_race_per_hundredk)\n",
    "\n",
    "death_accidental = deaths_by_intent_100K('Accidental')\n",
    "print(death_accidental)"
   ]
  }
 ],
 "metadata": {
  "kernelspec": {
   "display_name": "Python 3",
   "language": "python",
   "name": "python3"
  },
  "language_info": {
   "codemirror_mode": {
    "name": "ipython",
    "version": 3
   },
   "file_extension": ".py",
   "mimetype": "text/x-python",
   "name": "python",
   "nbconvert_exporter": "python",
   "pygments_lexer": "ipython3",
   "version": "3.6.1"
  }
 },
 "nbformat": 4,
 "nbformat_minor": 1
}
